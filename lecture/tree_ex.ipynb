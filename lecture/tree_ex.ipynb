{
 "cells": [
  {
   "cell_type": "markdown",
   "id": "d92aba11",
   "metadata": {},
   "source": [
    "# Exercise 8 – CART\n",
    "\n"
   ]
  },
  {
   "cell_type": "markdown",
   "id": "63fb3297",
   "metadata": {},
   "source": [
    "### Task 1"
   ]
  },
  {
   "cell_type": "code",
   "execution_count": 2,
   "id": "34181efd",
   "metadata": {},
   "outputs": [],
   "source": [
    "import numpy as np\n",
    "\n",
    "# Feature values\n",
    "X = np.array([1,2,7,10,20])\n",
    "# Target values\n",
    "y = np.array([1,1,0.5,10,11])"
   ]
  },
  {
   "cell_type": "code",
   "execution_count": null,
   "id": "a77ffd5e",
   "metadata": {},
   "outputs": [],
   "source": [
    "def mse(y):\n",
    "    if len(y) == 0:\n",
    "        return 0\n",
    "    return np.mean((y - np.mean(y)) ** 2)"
   ]
  },
  {
   "cell_type": "code",
   "execution_count": 3,
   "id": "a45a0a65",
   "metadata": {},
   "outputs": [],
   "source": [
    "def best_split_mse(X, y):\n",
    "    # Sort the data\n",
    "    sorted_indices = np.argsort(X)\n",
    "    X_sorted = X[sorted_indices]\n",
    "    y_sorted = y[sorted_indices]\n",
    "\n",
    "    # Generate potential split points (midpoints between consecutive points)\n",
    "    split_points = (X_sorted[:-1] + X_sorted[1:]) / 2\n",
    "\n",
    "    best_mse = float('inf')\n",
    "    best_split = None\n",
    "\n",
    "    # Iterate over each potential split point\n",
    "    for split in split_points:\n",
    "        left_indices = X_sorted <= split\n",
    "        right_indices = X_sorted > split\n",
    "\n",
    "        y_left = y_sorted[left_indices]\n",
    "        y_right = y_sorted[right_indices]\n",
    "\n",
    "        # Calculate MSE for left and right splits\n",
    "        mse_left = mse(y_left)\n",
    "        mse_right = mse(y_right)\n",
    "\n",
    "        weight_left = len(y_left) / len(y_sorted)\n",
    "        weight_right = len(y_right) / len(y_sorted)\n",
    "\n",
    "        # Weighted MSE for the split\n",
    "        total_mse = weight_left * mse_left + weight_right * mse_right\n",
    "\n",
    "        # Update best split if current weighted MSE is lower\n",
    "        if total_mse < best_mse:\n",
    "            best_mse = total_mse\n",
    "            best_split = split\n",
    "        \n",
    "    return best_split, best_mse\n",
    "        "
   ]
  },
  {
   "cell_type": "code",
   "execution_count": null,
   "id": "a4e63d5a",
   "metadata": {},
   "outputs": [],
   "source": [
    "split, impurity = best_split_mse(X, y)\n",
    "print(f\"Best split: {split}, MSE: {impurity}\")"
   ]
  }
 ],
 "metadata": {
  "kernelspec": {
   "display_name": ".venv",
   "language": "python",
   "name": "python3"
  },
  "language_info": {
   "codemirror_mode": {
    "name": "ipython",
    "version": 3
   },
   "file_extension": ".py",
   "mimetype": "text/x-python",
   "name": "python",
   "nbconvert_exporter": "python",
   "pygments_lexer": "ipython3",
   "version": "3.13.2"
  }
 },
 "nbformat": 4,
 "nbformat_minor": 5
}
