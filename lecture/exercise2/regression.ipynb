{
 "cells": [
  {
   "cell_type": "markdown",
   "id": "67c12878",
   "metadata": {},
   "source": []
  },
  {
   "cell_type": "markdown",
   "id": "ac40c91d",
   "metadata": {},
   "source": []
  }
 ],
 "metadata": {
  "language_info": {
   "name": "python"
  }
 },
 "nbformat": 4,
 "nbformat_minor": 5
}
